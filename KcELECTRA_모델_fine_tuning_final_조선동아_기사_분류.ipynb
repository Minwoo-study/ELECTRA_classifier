{
  "cells": [
    {
      "cell_type": "markdown",
      "metadata": {
        "colab_type": "text",
        "id": "view-in-github"
      },
      "source": [
        "<a href=\"https://colab.research.google.com/github/Minwoo-study/ELECTRA_classifier/blob/main/KcELECTRA_%EB%AA%A8%EB%8D%B8_fine_tuning_final_%EC%A1%B0%EC%84%A0%EB%8F%99%EC%95%84_%EA%B8%B0%EC%82%AC_%EB%B6%84%EB%A5%98.ipynb\" target=\"_parent\"><img src=\"https://colab.research.google.com/assets/colab-badge.svg\" alt=\"Open In Colab\"/></a>"
      ]
    },
    {
      "attachments": {},
      "cell_type": "markdown",
      "metadata": {
        "id": "cdjLL9gvyVCR"
      },
      "source": [
        "\n",
        "# Pytorch + HuggingFace \n",
        "## KcElectra Model\n",
        "Beomi님의 KcElectra-base 사용<br>\n",
        "https://github.com/Beomi/KcELECTRA<br>\n",
        "\n",
        "## Dataset\n",
        "연세 말뭉치와 위키 문헌 근대 문학에서 '저희'가 포함된 문장을 '지칭의 저희'(label 0)와 '겸양의 저희(label 1)'로 분류\n",
        "만든 모델로 조선일보, 동아일보 100년 데이터에서 '저희'의 의미 분류\n",
        "\n",
        "## References\n",
        "- https://huggingface.co/transformers/training.html\n",
        "- https://tutorials.pytorch.kr/beginner/data_loading_tutorial.html\n",
        "- https://tutorials.pytorch.kr/beginner/blitz/cifar10_tutorial.html\n",
        "- https://wikidocs.net/44249\n",
        "\n",
        "## 주의사항\n",
        "꼭 GPU로 해주세요 - 1epoch 당 약 20분 소요   \n",
        "파이썬 3.9 base로 돌리기"
      ]
    },
    {
      "cell_type": "code",
      "execution_count": null,
      "metadata": {
        "id": "pmBxFl4cZGTu"
      },
      "outputs": [],
      "source": [
        "import pandas as pd\n",
        "train = './train_small.csv'\n",
        "test = './test_small.csv'\n",
        "test_pd = pd.read_csv('./test_small.csv')"
      ]
    },
    {
      "cell_type": "code",
      "execution_count": null,
      "metadata": {
        "id": "2bvC15Qrd8uS",
        "outputId": "79f47931-11fb-4f5f-ea3c-0bb866e168d6"
      },
      "outputs": [],
      "source": [
        "test_pd"
      ]
    },
    {
      "cell_type": "code",
      "execution_count": null,
      "metadata": {
        "id": "ZOCxy5tfaDE5"
      },
      "outputs": [],
      "source": [
        "#print(train.head())\n",
        "#print(test.head())"
      ]
    },
    {
      "attachments": {},
      "cell_type": "markdown",
      "metadata": {},
      "source": [
        "# 패키지 설치"
      ]
    },
    {
      "cell_type": "code",
      "execution_count": null,
      "metadata": {
        "id": "-iFVHYMAwQUt"
      },
      "outputs": [],
      "source": [
        "import numpy as np\n",
        "import pandas as pd\n",
        "import torch\n",
        "from torch.nn import functional as F\n",
        "from torch.utils.data import DataLoader, Dataset\n",
        "from transformers import AutoTokenizer, ElectraForSequenceClassification, AdamW, TextClassificationPipeline\n",
        "from tqdm.notebook import tqdm"
      ]
    },
    {
      "cell_type": "code",
      "execution_count": null,
      "metadata": {
        "id": "-i7pg7DaGsxp"
      },
      "outputs": [],
      "source": [
        "# GPU 사용\n",
        "device = torch.device(\"cuda\")"
      ]
    },
    {
      "cell_type": "markdown",
      "metadata": {
        "id": "Rq91g3bGwfeV"
      },
      "source": [
        "# Dataset 만들어서 불러오기 "
      ]
    },
    {
      "cell_type": "code",
      "execution_count": null,
      "metadata": {
        "id": "WZKIQNjZwdn1"
      },
      "outputs": [],
      "source": [
        "class ClassifyDataset(Dataset):\n",
        "  \n",
        "  def __init__(self, csv_file):\n",
        "    # 일부 값중에 NaN이 있음...\n",
        "    self.dataset = pd.read_csv(csv_file).dropna(axis=0) \n",
        "    # 중복제거\n",
        "    self.dataset.drop_duplicates(subset=['sentence'], inplace=True)\n",
        "\n",
        "    self.tokenizer = AutoTokenizer.from_pretrained(\"beomi/KcELECTRA-base\") #\n",
        "\n",
        "    print(self.dataset.describe())\n",
        "  \n",
        "  def __len__(self):\n",
        "    return len(self.dataset)\n",
        "  \n",
        "  def __getitem__(self, idx):\n",
        "    row = self.dataset.iloc[idx, 0:3].values #idx 행과 0,1,2 columns\n",
        "    text = row[0]\n",
        "    y = row[1]\n",
        "\n",
        "    inputs = self.tokenizer(\n",
        "        text, \n",
        "        return_tensors='pt', #return pytorch tensors\n",
        "        truncation=True, #reducing long sequences, 256개의 token만 살리고 뒤는 자름\n",
        "        max_length=256,\n",
        "        pad_to_max_length=False, #padding\n",
        "        add_special_tokens=True #자동으로 문장 앞뒤로 special tocken - padding 부착\n",
        "        )\n",
        "    \n",
        "    input_ids = inputs['input_ids'][0] #모델의 입력\n",
        "    attention_mask = inputs['attention_mask'][0] #padding(0이면 패딩 없음)\n",
        "\n",
        "    return input_ids, attention_mask, y"
      ]
    },
    {
      "cell_type": "code",
      "execution_count": null,
      "metadata": {
        "colab": {
          "base_uri": "https://localhost:8080/"
        },
        "id": "ESSNkTcXwfUe",
        "outputId": "d9c8210f-0ff4-48fd-a650-61e15560ad70"
      },
      "outputs": [],
      "source": [
        "train_dataset = ClassifyDataset(train)\n",
        "test_dataset = ClassifyDataset(test)"
      ]
    },
    {
      "cell_type": "markdown",
      "metadata": {
        "id": "vJiAJPUDz40W"
      },
      "source": [
        "# Create Model"
      ]
    },
    {
      "cell_type": "code",
      "execution_count": null,
      "metadata": {
        "colab": {
          "base_uri": "https://localhost:8080/"
        },
        "id": "f7-jRPQXz2r5",
        "outputId": "bb8a7ee5-316e-4452-860c-294cf712b169"
      },
      "outputs": [],
      "source": [
        "model = ElectraForSequenceClassification.from_pretrained(\"beomi/KcELECTRA-base\").to(device)\n",
        "tokenizer = AutoTokenizer.from_pretrained(\"beomi/KcELECTRA-base\")\n",
        "sentiment_classifier = TextClassificationPipeline(tokenizer=tokenizer, model=model, device=0)\n",
        "\n",
        "# 한번 실행해보기\n",
        "# text, attention_mask, y = train_dataset[0]\n",
        "# model(text.unsqueeze(0).to(device), attention_mask=attention_mask.unsqueeze(0).to(device))"
      ]
    },
    {
      "cell_type": "code",
      "execution_count": null,
      "metadata": {
        "id": "edb0aIFaXr4D"
      },
      "outputs": [],
      "source": [
        "#model.load_state_dict(torch.load(\"jh_model.pt\"))"
      ]
    },
    {
      "cell_type": "markdown",
      "metadata": {
        "id": "wmou0LFl0R_X"
      },
      "source": [
        "# Learn"
      ]
    },
    {
      "cell_type": "code",
      "execution_count": null,
      "metadata": {
        "id": "6NpXwESN0Q4h"
      },
      "outputs": [],
      "source": [
        "epochs = 5\n",
        "batch_size = 16"
      ]
    },
    {
      "cell_type": "code",
      "execution_count": null,
      "metadata": {
        "colab": {
          "base_uri": "https://localhost:8080/"
        },
        "id": "XPzxoo4H274J",
        "outputId": "f8a1aaad-e15f-4e6a-dc7c-dd702d7f2f23"
      },
      "outputs": [],
      "source": [
        "optimizer = AdamW(model.parameters(), lr=5e-6)\n",
        "train_loader = DataLoader(train_dataset, batch_size=batch_size, shuffle=True)\n",
        "test_loader = DataLoader(test_dataset, batch_size=16, shuffle=True)"
      ]
    },
    {
      "cell_type": "code",
      "execution_count": null,
      "metadata": {
        "colab": {
          "base_uri": "https://localhost:8080/",
          "height": 702,
          "referenced_widgets": [
            "45e78688ee7f4f73b6048906f9901f6c",
            "bdba983be0734419bbdd86b0e452b79b",
            "80ca2425e9c747329329453a8f55f70d",
            "11168c09e3fc478f9cd746fc562cc388",
            "717a3fa76dcb4e048f64998e75892aea",
            "892d504585b8437bbe268bca5820e30b",
            "c4e6f0e4efe54bd9a1031fec866a969e",
            "2e01cb9bba844ce0977fb118f7804bd3",
            "756da9667d69416cb3a7bd6594cdff22",
            "962488a2291641f9b83e6bbf719249fa",
            "6d9860b2d872420795709a95b9d94057",
            "b832b3f375da444bbe0fe0c17f1f789d",
            "fac7d0e24b6c41afbf6e661dce751821",
            "467212bc2d3f46babe6a842ca29468c8",
            "7f241941e7994f5ca0653d735ab19939",
            "b5700182eea74c9ab81cc56a4c893683"
          ]
        },
        "id": "M-BRNeE226HH",
        "outputId": "57201174-0a07-44db-ee7f-aa51a41bdbb4"
      },
      "outputs": [],
      "source": [
        "losses = []\n",
        "accuracies = []\n",
        "\n",
        "for i in range(epochs): #epoch 5\n",
        "  total_loss = 0.0\n",
        "  correct = 0\n",
        "  total = 0\n",
        "  batches = 0\n",
        "\n",
        "  model.train() #forward\n",
        "\n",
        "  for input_ids_batch, attention_masks_batch, y_batch in tqdm(train_loader): #tqdm 진행상황 확인 \n",
        "  # train_loader batch_size = 16 -> iterations에 대해서 batches? (data size / batch size = num of iterations ---> 1 epoch)\n",
        "    optimizer.zero_grad()\n",
        "  \n",
        "    y_batch = y_batch.type(torch.LongTensor)\n",
        "    y_batch = y_batch.to(device)\n",
        "    y_pred = model(input_ids_batch.to(device), attention_mask=attention_masks_batch.to(device))[0] #to(device) : gpu에 복사본 저장(pass data to device)\n",
        "    loss = F.cross_entropy(y_pred, y_batch)\n",
        "\n",
        "    loss.backward()\n",
        "    optimizer.step() #update params(weights and biases)\n",
        "\n",
        "    total_loss += loss.item()\n",
        "\n",
        "    _, predicted = torch.max(y_pred, 1) #max로 하는 이유?\n",
        "    correct += (predicted == y_batch).sum()\n",
        "    total += len(y_batch)\n",
        "\n",
        "    batches += 1\n",
        "    if batches % 100 == 0:\n",
        "      print(\"Batch Loss:\", total_loss, \"Accuracy:\", correct.float() / total)\n",
        "  \n",
        "  losses.append(total_loss)\n",
        "  accuracies.append(correct.float() / total)\n",
        "  print(\"Train Loss:\", total_loss, \"Accuracy:\", correct.float() / total) #예측한 결과 loss, accuracy (지도학습)"
      ]
    },
    {
      "cell_type": "code",
      "execution_count": null,
      "metadata": {
        "id": "IQK4R6n4JgVU",
        "outputId": "bec57844-6891-4b52-c3ec-8b9be432b85f"
      },
      "outputs": [],
      "source": [
        "losses, accuracies"
      ]
    },
    {
      "cell_type": "code",
      "execution_count": null,
      "metadata": {
        "id": "HYEp4NuUd8uV"
      },
      "outputs": [],
      "source": [
        "# 모델 저장하기\n",
        "torch.save(model.state_dict(), \"jh_model_shap.pt\")"
      ]
    },
    {
      "cell_type": "code",
      "execution_count": null,
      "metadata": {
        "id": "JY929Iu4d8uV",
        "outputId": "ab7822b8-b9ba-4976-8e9e-5d7a77655301"
      },
      "outputs": [],
      "source": [
        "# 모델 불러오기\n",
        "model.load_state_dict(torch.load(\"jh_model_shap.pt\"))"
      ]
    },
    {
      "cell_type": "markdown",
      "metadata": {
        "id": "qvEB8g7IFbsD"
      },
      "source": [
        "테스트 데이터셋 정확도 확인하기"
      ]
    },
    {
      "cell_type": "code",
      "execution_count": null,
      "metadata": {
        "colab": {
          "base_uri": "https://localhost:8080/",
          "height": 333,
          "referenced_widgets": [
            "06cd6731848a4461a56c61a67893151b",
            "7b54d437b25844e1be7f7285a3fb0f13",
            "b6d161737a1b4e4fa2a9eae311de8019",
            "cf4304a010dc42f1a14123249737e8ff",
            "c77ccda231574fa5acd582a912b0faeb",
            "e10c5304779e4879a63759e95c4540cc",
            "1dff47ff15d04b5c9ad005157c379c75",
            "e183a54d1eae47d99e8c0cfe5c8023a4",
            "75b422f3c4ee4d23a8db09035935ce08",
            "626af4ada7b24b2db5352d8de8321d30",
            "95a9a4a01ae24f90b5e24b8c524c098f",
            "9b1978995dd941f3bb5bd676d225aab6"
          ]
        },
        "id": "5QiALUqm4juf",
        "outputId": "97a45b82-2482-4ef4-f623-76a9be28550e"
      },
      "outputs": [],
      "source": [
        "model.eval()\n",
        "\n",
        "test_correct = 0\n",
        "test_total = 0\n",
        "\n",
        "for input_ids_batch, attention_masks_batch, y_batch in tqdm(test_loader):\n",
        "  y_batch = y_batch.type(torch.LongTensor)\n",
        "  y_batch = y_batch.to(device)\n",
        "  y_pred = model(input_ids_batch.to(device), attention_mask=attention_masks_batch.to(device))[0]\n",
        "  _, predicted = torch.max(y_pred, 1)\n",
        "  test_correct += (predicted == y_batch).sum()\n",
        "  test_total += len(y_batch)\n",
        "\n",
        "print(\"Accuracy:\", test_correct.float() / test_total)\n",
        "\n",
        "\n",
        "'''\n",
        "for idx, review in enumerate(test_pd['리뷰']):\n",
        "  pred = sentiment_classifier(review)\n",
        "  print(f'{review}\\n>> {pred[0]}')\n",
        "'''"
      ]
    },
    {
      "cell_type": "code",
      "execution_count": null,
      "metadata": {
        "id": "MVCwOMHld8uW"
      },
      "outputs": [],
      "source": [
        "#문장 하나하나 분류\n",
        "def sentences_predict(sent):\n",
        "    tokenizer = AutoTokenizer.from_pretrained(\"beomi/KcELECTRA-base\")\n",
        "    model.eval()\n",
        "    tokenized_sent = tokenizer(\n",
        "            sent,\n",
        "            return_tensors=\"pt\",\n",
        "            truncation=True,\n",
        "            add_special_tokens=True,\n",
        "            max_length=256\n",
        "    )\n",
        "    tokenized_sent.to(device)\n",
        "    \n",
        "    with torch.no_grad():# 그라디엔트 계산 비활성화\n",
        "        outputs = model(\n",
        "            input_ids=tokenized_sent['input_ids'],\n",
        "            attention_mask=tokenized_sent['attention_mask'],\n",
        "            token_type_ids=tokenized_sent['token_type_ids']\n",
        "            )\n",
        "\n",
        "    logits = outputs[0]\n",
        "    logits = logits.detach().cpu().numpy()\n",
        "    result = np.argmax(logits)\n",
        "    return result"
      ]
    },
    {
      "cell_type": "code",
      "execution_count": null,
      "metadata": {
        "id": "PbmHKrnzd8uW",
        "outputId": "66fba54d-fd68-4821-804c-2e2a3fef7485"
      },
      "outputs": [],
      "source": [
        "y_pred"
      ]
    },
    {
      "cell_type": "code",
      "execution_count": null,
      "metadata": {
        "colab": {
          "base_uri": "https://localhost:8080/"
        },
        "id": "5VsUkDd3poZn",
        "outputId": "49c3e24d-65df-48ba-e685-02a3913e656d"
      },
      "outputs": [],
      "source": [
        "test_pd['sentence'].head()"
      ]
    },
    {
      "cell_type": "markdown",
      "metadata": {
        "id": "FmNJiX3dd8uW"
      },
      "source": [
        "#### 나름 아무 문장이나 잘 분류함"
      ]
    },
    {
      "cell_type": "code",
      "execution_count": null,
      "metadata": {
        "id": "PZMv1uU1d8uW",
        "outputId": "58a5b4d3-54eb-4657-9021-5f81be7baa48"
      },
      "outputs": [],
      "source": [
        "sentences_predict('도대체 어쩌란 말이냐! 저희들은 그 말을 듣고 조용히 물러났다')"
      ]
    },
    {
      "cell_type": "code",
      "execution_count": null,
      "metadata": {
        "id": "raJdiMKrd8uW",
        "outputId": "3bd16171-05c5-469e-d70d-7b601d373f37"
      },
      "outputs": [],
      "source": [
        "sentences_predict('도대체 어쩌란 말이냐! \"저희들이 알아서 하겠나이다\"')"
      ]
    },
    {
      "cell_type": "code",
      "execution_count": null,
      "metadata": {
        "id": "1V0OfcHnd8uW",
        "outputId": "b10c3b36-c033-4f35-ac3a-785be29edc2a"
      },
      "outputs": [],
      "source": [
        "sentences_predict('생각보다 맛있고, 사장님이 친절해요')"
      ]
    },
    {
      "attachments": {},
      "cell_type": "markdown",
      "metadata": {
        "id": "XfRCcKe9d8uW"
      },
      "source": [
        "# 조선 동아일보 데이터 분류"
      ]
    },
    {
      "cell_type": "code",
      "execution_count": null,
      "metadata": {
        "id": "dLavPR8Sd8uW",
        "outputId": "8258039b-c58a-45b3-ad98-cdb7bfdd500f"
      },
      "outputs": [],
      "source": [
        "cd_data= pd.read_pickle('./저희_조선동아_1954_1999.pkl')\n",
        "cd_data"
      ]
    },
    {
      "cell_type": "code",
      "execution_count": null,
      "metadata": {
        "id": "bIzFubGSd8uW",
        "outputId": "c8f707cb-ade3-42fe-9088-3467f935677c"
      },
      "outputs": [],
      "source": [
        "score = [] # label - score\n",
        "\n",
        "total_len = len(cd_data)\n",
        "\n",
        "for cnt, review in enumerate(cd_data['text']): \n",
        "  pred = sentiment_classifier(review) \n",
        "  score.append(pred) \n",
        "  print(cnt, '개 문장 분류 완료')"
      ]
    },
    {
      "cell_type": "code",
      "execution_count": null,
      "metadata": {
        "id": "qJubUC5Rd8uW",
        "outputId": "bc0d0ea0-b626-4e4e-fae2-86c1b7112ffe"
      },
      "outputs": [],
      "source": [
        "len(score) #전체 데이터 개수와 같은지 확인"
      ]
    },
    {
      "cell_type": "code",
      "execution_count": null,
      "metadata": {
        "id": "G8c-bPesd8uW",
        "outputId": "d17bc3b4-8195-438a-9d0f-3300e2fdbef1"
      },
      "outputs": [],
      "source": [
        "cd_data['predicted'] = 0 # label(예측 결과): 1(긍정) / 0(부정)\n",
        "cd_data['score']=0\n",
        " \n",
        "\n",
        "for i in range(len(score)): \n",
        "    cd_data['predicted'][i] = int(score[i][0].get('label')[-1])\n",
        "    cd_data['score'][i] = float(score[i][0].get('score'))\n",
        "\n",
        "cd_data"
      ]
    },
    {
      "cell_type": "code",
      "execution_count": null,
      "metadata": {
        "id": "1MBXcifUd8uW"
      },
      "outputs": [],
      "source": [
        "cd_data.to_csv('조선동아_저희 모델 분류 결과_10words.csv', index=False)\n",
        "#test_pd.to_excel('저희 모델 분류 결과.xlsx', index=False)"
      ]
    },
    {
      "cell_type": "code",
      "execution_count": null,
      "metadata": {
        "id": "VPNrAlv3d8uW",
        "outputId": "138a5220-a783-413d-da33-e6d0d6515067"
      },
      "outputs": [],
      "source": [
        "df=cd_data.groupby(['year', 'publisher', 'predicted']).count()\n",
        "df"
      ]
    },
    {
      "cell_type": "code",
      "execution_count": null,
      "metadata": {
        "id": "qhPS9qG1d8uW",
        "outputId": "40fb38e8-b0ce-45a5-9322-0d7f35ce50a4"
      },
      "outputs": [],
      "source": [
        "df=df[['text']]\n",
        "df"
      ]
    },
    {
      "cell_type": "code",
      "execution_count": null,
      "metadata": {
        "id": "3A6r9t12d8uX"
      },
      "outputs": [],
      "source": [
        "df.to_excel('./조선동아_저희 모델 분류 결과 추세.xlsx')"
      ]
    },
    {
      "cell_type": "markdown",
      "metadata": {
        "id": "9auU5Pa5d8uX"
      },
      "source": [
        "### 시각화"
      ]
    },
    {
      "cell_type": "markdown",
      "metadata": {
        "id": "DzgCue5ad8uX"
      },
      "source": [
        "#### 전체"
      ]
    },
    {
      "cell_type": "code",
      "execution_count": null,
      "metadata": {
        "id": "4FrYfoHZd8uX"
      },
      "outputs": [],
      "source": [
        "import os\n",
        "\n",
        "\n",
        "# Mac OS의 경우와 그 외 OS의 경우로 나누어 설정\n",
        "\n",
        "if os.name == 'posix':\n",
        "\n",
        "    plt.rc(\"font\", family=\"AppleGothic\")\n",
        "\n",
        "else :\n",
        "\n",
        "    plt.rc(\"font\", family=\"Malgun Gothic\")"
      ]
    },
    {
      "cell_type": "code",
      "execution_count": null,
      "metadata": {
        "id": "BSvOmAm8d8uX",
        "outputId": "e3d328b2-70c4-4f7c-cb6c-f79a1eb23ebd"
      },
      "outputs": [],
      "source": [
        "df=cd_data.groupby(['year', 'predicted']).count()\n",
        "df"
      ]
    },
    {
      "cell_type": "code",
      "execution_count": null,
      "metadata": {
        "id": "XC7KL6zhd8uX",
        "outputId": "3abbc8bb-8891-4834-a9ce-0a7494a33ae3"
      },
      "outputs": [],
      "source": [
        "df.reset_index(inplace=True)\n",
        "df"
      ]
    },
    {
      "cell_type": "code",
      "execution_count": null,
      "metadata": {
        "id": "6wxX8Txnd8uX",
        "outputId": "9bebf4cf-6282-47ea-e99f-62efc0b394a7"
      },
      "outputs": [],
      "source": [
        "df.set_index(['year'], inplace=True)\n",
        "df"
      ]
    },
    {
      "cell_type": "code",
      "execution_count": null,
      "metadata": {
        "id": "4oiP9mPmd8uX",
        "outputId": "f51e7e33-2b08-4359-9c3b-3e71685b99bd"
      },
      "outputs": [],
      "source": [
        "df['겸양의 저희'] =0\n",
        "df['지칭의 저희'] = 0\n",
        "\n",
        "for idx in df.index :\n",
        "    df['겸양의 저희'][idx] = df['text'][df['predicted']==1][idx]\n",
        "    \n",
        "    try :\n",
        "        df['지칭의 저희'][idx] =df['text'][df['predicted']==0][idx]\n",
        "    except :\n",
        "    #donga['겸양의 저희'][idx] =0\n",
        "        df['지칭의 저희'][idx] =0\n",
        "df"
      ]
    },
    {
      "cell_type": "code",
      "execution_count": null,
      "metadata": {
        "id": "9Fco22CNd8uX"
      },
      "outputs": [],
      "source": [
        "df= df[['겸양의 저희', '지칭의 저희']]\n",
        "df.reset_index(inplace=True)\n",
        "df.drop_duplicates('year', inplace=True)\n",
        "df.set_index('year', inplace=True)\n",
        "df.plot()"
      ]
    },
    {
      "cell_type": "code",
      "execution_count": null,
      "metadata": {
        "id": "Bt8L-SYVd8uX",
        "outputId": "c62f1730-6bff-407e-a4bf-f6ba24368ce4"
      },
      "outputs": [],
      "source": []
    },
    {
      "cell_type": "code",
      "execution_count": null,
      "metadata": {
        "id": "kSv2KUHFd8uX"
      },
      "outputs": [],
      "source": [
        "\n",
        "donga= df[df['publisher']=='donga']"
      ]
    },
    {
      "cell_type": "markdown",
      "metadata": {
        "id": "ynFVq7gHd8uX"
      },
      "source": [
        "#### 조선일보"
      ]
    },
    {
      "cell_type": "code",
      "execution_count": null,
      "metadata": {
        "id": "qcwzmVP2d8uX"
      },
      "outputs": [],
      "source": [
        "chosun = df[df['publisher']=='chosun']"
      ]
    },
    {
      "cell_type": "code",
      "execution_count": null,
      "metadata": {
        "id": "z1XJQp5Ed8uX",
        "outputId": "5a19f10b-b7fa-40ff-9da9-8928b83a7a77"
      },
      "outputs": [],
      "source": [
        "chosun.set_index(['year'], inplace=True)\n",
        "chosun"
      ]
    },
    {
      "cell_type": "code",
      "execution_count": null,
      "metadata": {
        "id": "zMfJ9c7Pd8uX",
        "outputId": "be1281e7-4218-4b89-d881-f098024bedf2"
      },
      "outputs": [],
      "source": [
        "chosun['겸양의 저희'] =0\n",
        "chosun['지칭의 저희'] = 0\n",
        "\n",
        "for idx in chosun.index :\n",
        "    chosun['겸양의 저희'][idx] = chosun['text'][chosun['predicted']==1][idx]\n",
        "    \n",
        "    try :\n",
        "        chosun['지칭의 저희'][idx] =chosun['text'][chosun['predicted']==0][idx]\n",
        "    except :\n",
        "    #donga['겸양의 저희'][idx] =0\n",
        "        chosun['지칭의 저희'][idx] =0\n",
        "chosun"
      ]
    },
    {
      "cell_type": "code",
      "execution_count": null,
      "metadata": {
        "id": "8xDmZIaOd8uX"
      },
      "outputs": [],
      "source": [
        "chosun= chosun[['겸양의 저희', '지칭의 저희']]"
      ]
    },
    {
      "cell_type": "code",
      "execution_count": null,
      "metadata": {
        "id": "V01Df4Jqd8uX",
        "outputId": "5a4e30ef-7b14-4acf-e5ba-adfb25f6553a"
      },
      "outputs": [],
      "source": [
        "len(chosun)"
      ]
    },
    {
      "cell_type": "code",
      "execution_count": null,
      "metadata": {
        "id": "IztNmrPUd8uX"
      },
      "outputs": [],
      "source": [
        "chosun.reset_index(inplace=True)"
      ]
    },
    {
      "cell_type": "code",
      "execution_count": null,
      "metadata": {
        "id": "Fk5IKoeBd8uY",
        "outputId": "b0901208-88ce-4b07-b1d3-401e4b12865e"
      },
      "outputs": [],
      "source": [
        "chosun"
      ]
    },
    {
      "cell_type": "code",
      "execution_count": null,
      "metadata": {
        "id": "uVj54B5Md8uY",
        "outputId": "4fd60b5c-bd30-447d-9e4d-e4b2a871d680"
      },
      "outputs": [],
      "source": [
        "chosun=chosun.drop_duplicates('year')\n",
        "len(chosun)"
      ]
    },
    {
      "cell_type": "code",
      "execution_count": null,
      "metadata": {
        "id": "USgqTe5-d8uY"
      },
      "outputs": [],
      "source": [
        "chosun.set_index('year', inplace=True)"
      ]
    },
    {
      "cell_type": "code",
      "execution_count": null,
      "metadata": {
        "id": "FCh9FA_yd8uY"
      },
      "outputs": [],
      "source": [
        "import matplotlib.pyplot as plt"
      ]
    },
    {
      "cell_type": "code",
      "execution_count": null,
      "metadata": {
        "id": "o8BL6Cvdd8uY",
        "outputId": "f4086d1b-b1e4-4dbe-9fe5-9c4f956c051b"
      },
      "outputs": [],
      "source": [
        "chosun.plot(title='조선일보 저희 추세 그래프')"
      ]
    },
    {
      "cell_type": "markdown",
      "metadata": {
        "id": "ZPnxK2g6d8uY"
      },
      "source": [
        "#### 동아일보"
      ]
    },
    {
      "cell_type": "code",
      "execution_count": null,
      "metadata": {
        "id": "vMsqa_8Ld8uY"
      },
      "outputs": [],
      "source": [
        "chosun = df[df['publisher']=='chosun']\n",
        "donga= df[df['publisher']=='donga']"
      ]
    },
    {
      "cell_type": "code",
      "execution_count": null,
      "metadata": {
        "id": "2gdIff2Ld8uY",
        "outputId": "acf79647-57c3-4eac-fd5e-0f525b10082b"
      },
      "outputs": [],
      "source": [
        "donga.set_index(['year'], inplace=True)\n",
        "donga"
      ]
    },
    {
      "cell_type": "code",
      "execution_count": null,
      "metadata": {
        "id": "XcEoVmxXd8uY",
        "outputId": "cfbf4285-126f-4336-dc36-14e53e879d5e"
      },
      "outputs": [],
      "source": [
        "donga['text'][donga['predicted']==0]"
      ]
    },
    {
      "cell_type": "code",
      "execution_count": null,
      "metadata": {
        "id": "TmuvdUpid8uY",
        "outputId": "5019be75-f594-4d08-97d8-7756b4c7c0af"
      },
      "outputs": [],
      "source": [
        "donga['text'][1974]"
      ]
    },
    {
      "cell_type": "code",
      "execution_count": null,
      "metadata": {
        "id": "-rVXEpo8d8uY",
        "outputId": "a2f35b40-7ca0-47ac-e1d3-c76c92c332e7"
      },
      "outputs": [],
      "source": [
        "donga['겸양의 저희'] =0\n",
        "donga['지칭의 저희'] = 0\n",
        "\n",
        "for idx in donga.index :\n",
        "\n",
        "    donga['겸양의 저희'][idx] = donga['text'][donga['predicted']==1][idx]\n",
        "    try :\n",
        "        donga['지칭의 저희'][idx] =donga['text'][donga['predicted']==0][idx]\n",
        "    except :\n",
        "    #donga['겸양의 저희'][idx] =0\n",
        "        donga['지칭의 저희'][idx] =0\n",
        "donga"
      ]
    },
    {
      "cell_type": "code",
      "execution_count": null,
      "metadata": {
        "id": "PdS1kNUUd8uY"
      },
      "outputs": [],
      "source": [
        "donga= donga[['겸양의 저희', '지칭의 저희']].drop_duplicates()"
      ]
    },
    {
      "cell_type": "code",
      "execution_count": null,
      "metadata": {
        "id": "Wfhkk52Qd8uY",
        "outputId": "c87ee41b-444e-4e79-b181-df4d16c52ae9"
      },
      "outputs": [],
      "source": [
        "donga"
      ]
    },
    {
      "cell_type": "code",
      "execution_count": null,
      "metadata": {
        "id": "WBuFw1Bzd8uY",
        "outputId": "37715a14-3dcc-4998-86c1-de5f2342bc82"
      },
      "outputs": [],
      "source": [
        "fig = df.plot(title='전체 저희 추세 그래프').get_figure()\n",
        "plt.tight_layout()\n",
        "fig.savefig('전체 저희 추세 그래프.png')\n"
      ]
    },
    {
      "cell_type": "code",
      "execution_count": null,
      "metadata": {
        "id": "12FPOg80d8uY",
        "outputId": "d37aa9b1-5e95-409b-9c74-26514c022854"
      },
      "outputs": [],
      "source": [
        "donga.plot(title='동아일보 저희 추세 그래프')"
      ]
    },
    {
      "cell_type": "code",
      "execution_count": null,
      "metadata": {
        "id": "cdf-7jytd8uY",
        "outputId": "7831f024-9f98-45f2-eb04-2ecb3efe954d"
      },
      "outputs": [],
      "source": [
        "chosun.plot(title='조선일보 저희 추세 그래프')"
      ]
    }
  ],
  "metadata": {
    "accelerator": "GPU",
    "colab": {
      "include_colab_link": true,
      "provenance": []
    },
    "gpuClass": "standard",
    "kernelspec": {
      "display_name": "Python 3.9.7 ('base')",
      "language": "python",
      "name": "python3"
    },
    "language_info": {
      "codemirror_mode": {
        "name": "ipython",
        "version": 3
      },
      "file_extension": ".py",
      "mimetype": "text/x-python",
      "name": "python",
      "nbconvert_exporter": "python",
      "pygments_lexer": "ipython3",
      "version": "3.9.7"
    },
    "vscode": {
      "interpreter": {
        "hash": "e815ec34c9d7ca6d5f6dd6120341f05865440853c6373931621ba05a6d8d6b08"
      }
    },
    "widgets": {
      "application/vnd.jupyter.widget-state+json": {
        "06cd6731848a4461a56c61a67893151b": {
          "model_module": "@jupyter-widgets/controls",
          "model_module_version": "1.5.0",
          "model_name": "HBoxModel",
          "state": {
            "_dom_classes": [],
            "_model_module": "@jupyter-widgets/controls",
            "_model_module_version": "1.5.0",
            "_model_name": "HBoxModel",
            "_view_count": null,
            "_view_module": "@jupyter-widgets/controls",
            "_view_module_version": "1.5.0",
            "_view_name": "HBoxView",
            "box_style": "",
            "children": [
              "IPY_MODEL_7b54d437b25844e1be7f7285a3fb0f13",
              "IPY_MODEL_b6d161737a1b4e4fa2a9eae311de8019",
              "IPY_MODEL_cf4304a010dc42f1a14123249737e8ff"
            ],
            "layout": "IPY_MODEL_c77ccda231574fa5acd582a912b0faeb"
          }
        },
        "11168c09e3fc478f9cd746fc562cc388": {
          "model_module": "@jupyter-widgets/controls",
          "model_module_version": "1.5.0",
          "model_name": "HTMLModel",
          "state": {
            "_dom_classes": [],
            "_model_module": "@jupyter-widgets/controls",
            "_model_module_version": "1.5.0",
            "_model_name": "HTMLModel",
            "_view_count": null,
            "_view_module": "@jupyter-widgets/controls",
            "_view_module_version": "1.5.0",
            "_view_name": "HTMLView",
            "description": "",
            "description_tooltip": null,
            "layout": "IPY_MODEL_962488a2291641f9b83e6bbf719249fa",
            "placeholder": "​",
            "style": "IPY_MODEL_6d9860b2d872420795709a95b9d94057",
            "value": " 1265/9137 [14:48&lt;1:32:14,  1.42it/s]"
          }
        },
        "1dff47ff15d04b5c9ad005157c379c75": {
          "model_module": "@jupyter-widgets/controls",
          "model_module_version": "1.5.0",
          "model_name": "DescriptionStyleModel",
          "state": {
            "_model_module": "@jupyter-widgets/controls",
            "_model_module_version": "1.5.0",
            "_model_name": "DescriptionStyleModel",
            "_view_count": null,
            "_view_module": "@jupyter-widgets/base",
            "_view_module_version": "1.2.0",
            "_view_name": "StyleView",
            "description_width": ""
          }
        },
        "2e01cb9bba844ce0977fb118f7804bd3": {
          "model_module": "@jupyter-widgets/base",
          "model_module_version": "1.2.0",
          "model_name": "LayoutModel",
          "state": {
            "_model_module": "@jupyter-widgets/base",
            "_model_module_version": "1.2.0",
            "_model_name": "LayoutModel",
            "_view_count": null,
            "_view_module": "@jupyter-widgets/base",
            "_view_module_version": "1.2.0",
            "_view_name": "LayoutView",
            "align_content": null,
            "align_items": null,
            "align_self": null,
            "border": null,
            "bottom": null,
            "display": null,
            "flex": null,
            "flex_flow": null,
            "grid_area": null,
            "grid_auto_columns": null,
            "grid_auto_flow": null,
            "grid_auto_rows": null,
            "grid_column": null,
            "grid_gap": null,
            "grid_row": null,
            "grid_template_areas": null,
            "grid_template_columns": null,
            "grid_template_rows": null,
            "height": null,
            "justify_content": null,
            "justify_items": null,
            "left": null,
            "margin": null,
            "max_height": null,
            "max_width": null,
            "min_height": null,
            "min_width": null,
            "object_fit": null,
            "object_position": null,
            "order": null,
            "overflow": null,
            "overflow_x": null,
            "overflow_y": null,
            "padding": null,
            "right": null,
            "top": null,
            "visibility": null,
            "width": null
          }
        },
        "45e78688ee7f4f73b6048906f9901f6c": {
          "model_module": "@jupyter-widgets/controls",
          "model_module_version": "1.5.0",
          "model_name": "HBoxModel",
          "state": {
            "_dom_classes": [],
            "_model_module": "@jupyter-widgets/controls",
            "_model_module_version": "1.5.0",
            "_model_name": "HBoxModel",
            "_view_count": null,
            "_view_module": "@jupyter-widgets/controls",
            "_view_module_version": "1.5.0",
            "_view_name": "HBoxView",
            "box_style": "",
            "children": [
              "IPY_MODEL_bdba983be0734419bbdd86b0e452b79b",
              "IPY_MODEL_80ca2425e9c747329329453a8f55f70d",
              "IPY_MODEL_11168c09e3fc478f9cd746fc562cc388"
            ],
            "layout": "IPY_MODEL_717a3fa76dcb4e048f64998e75892aea"
          }
        },
        "626af4ada7b24b2db5352d8de8321d30": {
          "model_module": "@jupyter-widgets/base",
          "model_module_version": "1.2.0",
          "model_name": "LayoutModel",
          "state": {
            "_model_module": "@jupyter-widgets/base",
            "_model_module_version": "1.2.0",
            "_model_name": "LayoutModel",
            "_view_count": null,
            "_view_module": "@jupyter-widgets/base",
            "_view_module_version": "1.2.0",
            "_view_name": "LayoutView",
            "align_content": null,
            "align_items": null,
            "align_self": null,
            "border": null,
            "bottom": null,
            "display": null,
            "flex": null,
            "flex_flow": null,
            "grid_area": null,
            "grid_auto_columns": null,
            "grid_auto_flow": null,
            "grid_auto_rows": null,
            "grid_column": null,
            "grid_gap": null,
            "grid_row": null,
            "grid_template_areas": null,
            "grid_template_columns": null,
            "grid_template_rows": null,
            "height": null,
            "justify_content": null,
            "justify_items": null,
            "left": null,
            "margin": null,
            "max_height": null,
            "max_width": null,
            "min_height": null,
            "min_width": null,
            "object_fit": null,
            "object_position": null,
            "order": null,
            "overflow": null,
            "overflow_x": null,
            "overflow_y": null,
            "padding": null,
            "right": null,
            "top": null,
            "visibility": null,
            "width": null
          }
        },
        "6d9860b2d872420795709a95b9d94057": {
          "model_module": "@jupyter-widgets/controls",
          "model_module_version": "1.5.0",
          "model_name": "DescriptionStyleModel",
          "state": {
            "_model_module": "@jupyter-widgets/controls",
            "_model_module_version": "1.5.0",
            "_model_name": "DescriptionStyleModel",
            "_view_count": null,
            "_view_module": "@jupyter-widgets/base",
            "_view_module_version": "1.2.0",
            "_view_name": "StyleView",
            "description_width": ""
          }
        },
        "717a3fa76dcb4e048f64998e75892aea": {
          "model_module": "@jupyter-widgets/base",
          "model_module_version": "1.2.0",
          "model_name": "LayoutModel",
          "state": {
            "_model_module": "@jupyter-widgets/base",
            "_model_module_version": "1.2.0",
            "_model_name": "LayoutModel",
            "_view_count": null,
            "_view_module": "@jupyter-widgets/base",
            "_view_module_version": "1.2.0",
            "_view_name": "LayoutView",
            "align_content": null,
            "align_items": null,
            "align_self": null,
            "border": null,
            "bottom": null,
            "display": null,
            "flex": null,
            "flex_flow": null,
            "grid_area": null,
            "grid_auto_columns": null,
            "grid_auto_flow": null,
            "grid_auto_rows": null,
            "grid_column": null,
            "grid_gap": null,
            "grid_row": null,
            "grid_template_areas": null,
            "grid_template_columns": null,
            "grid_template_rows": null,
            "height": null,
            "justify_content": null,
            "justify_items": null,
            "left": null,
            "margin": null,
            "max_height": null,
            "max_width": null,
            "min_height": null,
            "min_width": null,
            "object_fit": null,
            "object_position": null,
            "order": null,
            "overflow": null,
            "overflow_x": null,
            "overflow_y": null,
            "padding": null,
            "right": null,
            "top": null,
            "visibility": null,
            "width": null
          }
        },
        "756da9667d69416cb3a7bd6594cdff22": {
          "model_module": "@jupyter-widgets/controls",
          "model_module_version": "1.5.0",
          "model_name": "ProgressStyleModel",
          "state": {
            "_model_module": "@jupyter-widgets/controls",
            "_model_module_version": "1.5.0",
            "_model_name": "ProgressStyleModel",
            "_view_count": null,
            "_view_module": "@jupyter-widgets/base",
            "_view_module_version": "1.2.0",
            "_view_name": "StyleView",
            "bar_color": null,
            "description_width": ""
          }
        },
        "75b422f3c4ee4d23a8db09035935ce08": {
          "model_module": "@jupyter-widgets/controls",
          "model_module_version": "1.5.0",
          "model_name": "ProgressStyleModel",
          "state": {
            "_model_module": "@jupyter-widgets/controls",
            "_model_module_version": "1.5.0",
            "_model_name": "ProgressStyleModel",
            "_view_count": null,
            "_view_module": "@jupyter-widgets/base",
            "_view_module_version": "1.2.0",
            "_view_name": "StyleView",
            "bar_color": null,
            "description_width": ""
          }
        },
        "7b54d437b25844e1be7f7285a3fb0f13": {
          "model_module": "@jupyter-widgets/controls",
          "model_module_version": "1.5.0",
          "model_name": "HTMLModel",
          "state": {
            "_dom_classes": [],
            "_model_module": "@jupyter-widgets/controls",
            "_model_module_version": "1.5.0",
            "_model_name": "HTMLModel",
            "_view_count": null,
            "_view_module": "@jupyter-widgets/controls",
            "_view_module_version": "1.5.0",
            "_view_name": "HTMLView",
            "description": "",
            "description_tooltip": null,
            "layout": "IPY_MODEL_e10c5304779e4879a63759e95c4540cc",
            "placeholder": "​",
            "style": "IPY_MODEL_1dff47ff15d04b5c9ad005157c379c75",
            "value": "  2%"
          }
        },
        "80ca2425e9c747329329453a8f55f70d": {
          "model_module": "@jupyter-widgets/controls",
          "model_module_version": "1.5.0",
          "model_name": "FloatProgressModel",
          "state": {
            "_dom_classes": [],
            "_model_module": "@jupyter-widgets/controls",
            "_model_module_version": "1.5.0",
            "_model_name": "FloatProgressModel",
            "_view_count": null,
            "_view_module": "@jupyter-widgets/controls",
            "_view_module_version": "1.5.0",
            "_view_name": "ProgressView",
            "bar_style": "danger",
            "description": "",
            "description_tooltip": null,
            "layout": "IPY_MODEL_2e01cb9bba844ce0977fb118f7804bd3",
            "max": 9137,
            "min": 0,
            "orientation": "horizontal",
            "style": "IPY_MODEL_756da9667d69416cb3a7bd6594cdff22",
            "value": 1265
          }
        },
        "892d504585b8437bbe268bca5820e30b": {
          "model_module": "@jupyter-widgets/base",
          "model_module_version": "1.2.0",
          "model_name": "LayoutModel",
          "state": {
            "_model_module": "@jupyter-widgets/base",
            "_model_module_version": "1.2.0",
            "_model_name": "LayoutModel",
            "_view_count": null,
            "_view_module": "@jupyter-widgets/base",
            "_view_module_version": "1.2.0",
            "_view_name": "LayoutView",
            "align_content": null,
            "align_items": null,
            "align_self": null,
            "border": null,
            "bottom": null,
            "display": null,
            "flex": null,
            "flex_flow": null,
            "grid_area": null,
            "grid_auto_columns": null,
            "grid_auto_flow": null,
            "grid_auto_rows": null,
            "grid_column": null,
            "grid_gap": null,
            "grid_row": null,
            "grid_template_areas": null,
            "grid_template_columns": null,
            "grid_template_rows": null,
            "height": null,
            "justify_content": null,
            "justify_items": null,
            "left": null,
            "margin": null,
            "max_height": null,
            "max_width": null,
            "min_height": null,
            "min_width": null,
            "object_fit": null,
            "object_position": null,
            "order": null,
            "overflow": null,
            "overflow_x": null,
            "overflow_y": null,
            "padding": null,
            "right": null,
            "top": null,
            "visibility": null,
            "width": null
          }
        },
        "95a9a4a01ae24f90b5e24b8c524c098f": {
          "model_module": "@jupyter-widgets/controls",
          "model_module_version": "1.5.0",
          "model_name": "DescriptionStyleModel",
          "state": {
            "_model_module": "@jupyter-widgets/controls",
            "_model_module_version": "1.5.0",
            "_model_name": "DescriptionStyleModel",
            "_view_count": null,
            "_view_module": "@jupyter-widgets/base",
            "_view_module_version": "1.2.0",
            "_view_name": "StyleView",
            "description_width": ""
          }
        },
        "962488a2291641f9b83e6bbf719249fa": {
          "model_module": "@jupyter-widgets/base",
          "model_module_version": "1.2.0",
          "model_name": "LayoutModel",
          "state": {
            "_model_module": "@jupyter-widgets/base",
            "_model_module_version": "1.2.0",
            "_model_name": "LayoutModel",
            "_view_count": null,
            "_view_module": "@jupyter-widgets/base",
            "_view_module_version": "1.2.0",
            "_view_name": "LayoutView",
            "align_content": null,
            "align_items": null,
            "align_self": null,
            "border": null,
            "bottom": null,
            "display": null,
            "flex": null,
            "flex_flow": null,
            "grid_area": null,
            "grid_auto_columns": null,
            "grid_auto_flow": null,
            "grid_auto_rows": null,
            "grid_column": null,
            "grid_gap": null,
            "grid_row": null,
            "grid_template_areas": null,
            "grid_template_columns": null,
            "grid_template_rows": null,
            "height": null,
            "justify_content": null,
            "justify_items": null,
            "left": null,
            "margin": null,
            "max_height": null,
            "max_width": null,
            "min_height": null,
            "min_width": null,
            "object_fit": null,
            "object_position": null,
            "order": null,
            "overflow": null,
            "overflow_x": null,
            "overflow_y": null,
            "padding": null,
            "right": null,
            "top": null,
            "visibility": null,
            "width": null
          }
        },
        "b6d161737a1b4e4fa2a9eae311de8019": {
          "model_module": "@jupyter-widgets/controls",
          "model_module_version": "1.5.0",
          "model_name": "FloatProgressModel",
          "state": {
            "_dom_classes": [],
            "_model_module": "@jupyter-widgets/controls",
            "_model_module_version": "1.5.0",
            "_model_name": "FloatProgressModel",
            "_view_count": null,
            "_view_module": "@jupyter-widgets/controls",
            "_view_module_version": "1.5.0",
            "_view_name": "ProgressView",
            "bar_style": "danger",
            "description": "",
            "description_tooltip": null,
            "layout": "IPY_MODEL_e183a54d1eae47d99e8c0cfe5c8023a4",
            "max": 3073,
            "min": 0,
            "orientation": "horizontal",
            "style": "IPY_MODEL_75b422f3c4ee4d23a8db09035935ce08",
            "value": 49
          }
        },
        "bdba983be0734419bbdd86b0e452b79b": {
          "model_module": "@jupyter-widgets/controls",
          "model_module_version": "1.5.0",
          "model_name": "HTMLModel",
          "state": {
            "_dom_classes": [],
            "_model_module": "@jupyter-widgets/controls",
            "_model_module_version": "1.5.0",
            "_model_name": "HTMLModel",
            "_view_count": null,
            "_view_module": "@jupyter-widgets/controls",
            "_view_module_version": "1.5.0",
            "_view_name": "HTMLView",
            "description": "",
            "description_tooltip": null,
            "layout": "IPY_MODEL_892d504585b8437bbe268bca5820e30b",
            "placeholder": "​",
            "style": "IPY_MODEL_c4e6f0e4efe54bd9a1031fec866a969e",
            "value": " 14%"
          }
        },
        "c4e6f0e4efe54bd9a1031fec866a969e": {
          "model_module": "@jupyter-widgets/controls",
          "model_module_version": "1.5.0",
          "model_name": "DescriptionStyleModel",
          "state": {
            "_model_module": "@jupyter-widgets/controls",
            "_model_module_version": "1.5.0",
            "_model_name": "DescriptionStyleModel",
            "_view_count": null,
            "_view_module": "@jupyter-widgets/base",
            "_view_module_version": "1.2.0",
            "_view_name": "StyleView",
            "description_width": ""
          }
        },
        "c77ccda231574fa5acd582a912b0faeb": {
          "model_module": "@jupyter-widgets/base",
          "model_module_version": "1.2.0",
          "model_name": "LayoutModel",
          "state": {
            "_model_module": "@jupyter-widgets/base",
            "_model_module_version": "1.2.0",
            "_model_name": "LayoutModel",
            "_view_count": null,
            "_view_module": "@jupyter-widgets/base",
            "_view_module_version": "1.2.0",
            "_view_name": "LayoutView",
            "align_content": null,
            "align_items": null,
            "align_self": null,
            "border": null,
            "bottom": null,
            "display": null,
            "flex": null,
            "flex_flow": null,
            "grid_area": null,
            "grid_auto_columns": null,
            "grid_auto_flow": null,
            "grid_auto_rows": null,
            "grid_column": null,
            "grid_gap": null,
            "grid_row": null,
            "grid_template_areas": null,
            "grid_template_columns": null,
            "grid_template_rows": null,
            "height": null,
            "justify_content": null,
            "justify_items": null,
            "left": null,
            "margin": null,
            "max_height": null,
            "max_width": null,
            "min_height": null,
            "min_width": null,
            "object_fit": null,
            "object_position": null,
            "order": null,
            "overflow": null,
            "overflow_x": null,
            "overflow_y": null,
            "padding": null,
            "right": null,
            "top": null,
            "visibility": null,
            "width": null
          }
        },
        "cf4304a010dc42f1a14123249737e8ff": {
          "model_module": "@jupyter-widgets/controls",
          "model_module_version": "1.5.0",
          "model_name": "HTMLModel",
          "state": {
            "_dom_classes": [],
            "_model_module": "@jupyter-widgets/controls",
            "_model_module_version": "1.5.0",
            "_model_name": "HTMLModel",
            "_view_count": null,
            "_view_module": "@jupyter-widgets/controls",
            "_view_module_version": "1.5.0",
            "_view_name": "HTMLView",
            "description": "",
            "description_tooltip": null,
            "layout": "IPY_MODEL_626af4ada7b24b2db5352d8de8321d30",
            "placeholder": "​",
            "style": "IPY_MODEL_95a9a4a01ae24f90b5e24b8c524c098f",
            "value": " 49/3073 [00:12&lt;12:52,  3.91it/s]"
          }
        },
        "e10c5304779e4879a63759e95c4540cc": {
          "model_module": "@jupyter-widgets/base",
          "model_module_version": "1.2.0",
          "model_name": "LayoutModel",
          "state": {
            "_model_module": "@jupyter-widgets/base",
            "_model_module_version": "1.2.0",
            "_model_name": "LayoutModel",
            "_view_count": null,
            "_view_module": "@jupyter-widgets/base",
            "_view_module_version": "1.2.0",
            "_view_name": "LayoutView",
            "align_content": null,
            "align_items": null,
            "align_self": null,
            "border": null,
            "bottom": null,
            "display": null,
            "flex": null,
            "flex_flow": null,
            "grid_area": null,
            "grid_auto_columns": null,
            "grid_auto_flow": null,
            "grid_auto_rows": null,
            "grid_column": null,
            "grid_gap": null,
            "grid_row": null,
            "grid_template_areas": null,
            "grid_template_columns": null,
            "grid_template_rows": null,
            "height": null,
            "justify_content": null,
            "justify_items": null,
            "left": null,
            "margin": null,
            "max_height": null,
            "max_width": null,
            "min_height": null,
            "min_width": null,
            "object_fit": null,
            "object_position": null,
            "order": null,
            "overflow": null,
            "overflow_x": null,
            "overflow_y": null,
            "padding": null,
            "right": null,
            "top": null,
            "visibility": null,
            "width": null
          }
        },
        "e183a54d1eae47d99e8c0cfe5c8023a4": {
          "model_module": "@jupyter-widgets/base",
          "model_module_version": "1.2.0",
          "model_name": "LayoutModel",
          "state": {
            "_model_module": "@jupyter-widgets/base",
            "_model_module_version": "1.2.0",
            "_model_name": "LayoutModel",
            "_view_count": null,
            "_view_module": "@jupyter-widgets/base",
            "_view_module_version": "1.2.0",
            "_view_name": "LayoutView",
            "align_content": null,
            "align_items": null,
            "align_self": null,
            "border": null,
            "bottom": null,
            "display": null,
            "flex": null,
            "flex_flow": null,
            "grid_area": null,
            "grid_auto_columns": null,
            "grid_auto_flow": null,
            "grid_auto_rows": null,
            "grid_column": null,
            "grid_gap": null,
            "grid_row": null,
            "grid_template_areas": null,
            "grid_template_columns": null,
            "grid_template_rows": null,
            "height": null,
            "justify_content": null,
            "justify_items": null,
            "left": null,
            "margin": null,
            "max_height": null,
            "max_width": null,
            "min_height": null,
            "min_width": null,
            "object_fit": null,
            "object_position": null,
            "order": null,
            "overflow": null,
            "overflow_x": null,
            "overflow_y": null,
            "padding": null,
            "right": null,
            "top": null,
            "visibility": null,
            "width": null
          }
        }
      }
    }
  },
  "nbformat": 4,
  "nbformat_minor": 0
}
